{
 "cells": [
  {
   "cell_type": "markdown",
   "id": "392aa8a0",
   "metadata": {
    "papermill": {
     "duration": 0.012599,
     "end_time": "2022-07-23T13:41:49.235201",
     "exception": false,
     "start_time": "2022-07-23T13:41:49.222602",
     "status": "completed"
    },
    "tags": []
   },
   "source": [
    "# RFM Model\n",
    "* RFM Model is the method to find out your loyal customer base.\n",
    "* It give score to each customers based on there order frequency, total order cost, Last order date.\n",
    "* RFM stands for Recency, Frequency, and Monetary Score\n",
    "* Lower the RFM Score ,More loyal the customer is."
   ]
  },
  {
   "cell_type": "markdown",
   "id": "28bfedd3",
   "metadata": {
    "papermill": {
     "duration": 0.011514,
     "end_time": "2022-07-23T13:41:49.258449",
     "exception": false,
     "start_time": "2022-07-23T13:41:49.246935",
     "status": "completed"
    },
    "tags": []
   },
   "source": [
    "<!-- ![](https://thumbs.gfycat.com/GrossSphericalGerenuk-size_restricted.gif) -->\n",
    "<img src=\"https://thumbs.gfycat.com/GrossSphericalGerenuk-size_restricted.gif\" width=\"800\">"
   ]
  },
  {
   "cell_type": "markdown",
   "id": "54a9521b",
   "metadata": {
    "papermill": {
     "duration": 0.011133,
     "end_time": "2022-07-23T13:41:49.281090",
     "exception": false,
     "start_time": "2022-07-23T13:41:49.269957",
     "status": "completed"
    },
    "tags": []
   },
   "source": [
    "# So here we GO :)"
   ]
  },
  {
   "cell_type": "code",
   "execution_count": 1,
   "id": "27a4a52d",
   "metadata": {
    "execution": {
     "iopub.execute_input": "2022-07-23T13:41:49.307348Z",
     "iopub.status.busy": "2022-07-23T13:41:49.306720Z",
     "iopub.status.idle": "2022-07-23T13:41:50.377597Z",
     "shell.execute_reply": "2022-07-23T13:41:50.376629Z"
    },
    "papermill": {
     "duration": 1.086664,
     "end_time": "2022-07-23T13:41:50.380444",
     "exception": false,
     "start_time": "2022-07-23T13:41:49.293780",
     "status": "completed"
    },
    "tags": []
   },
   "outputs": [],
   "source": [
    "# Import all required Libraries\n",
    "import numpy as np\n",
    "import pandas as pd \n",
    "import matplotlib.pyplot as plt\n",
    "import seaborn as sns\n",
    "\n",
    "%matplotlib inline\n"
   ]
  },
  {
   "cell_type": "code",
   "execution_count": 2,
   "id": "fe7a53ad",
   "metadata": {
    "execution": {
     "iopub.execute_input": "2022-07-23T13:41:50.405608Z",
     "iopub.status.busy": "2022-07-23T13:41:50.405236Z",
     "iopub.status.idle": "2022-07-23T13:41:50.503051Z",
     "shell.execute_reply": "2022-07-23T13:41:50.501901Z"
    },
    "papermill": {
     "duration": 0.113998,
     "end_time": "2022-07-23T13:41:50.506109",
     "exception": false,
     "start_time": "2022-07-23T13:41:50.392111",
     "status": "completed"
    },
    "tags": []
   },
   "outputs": [
    {
     "data": {
      "text/html": [
       "<div>\n",
       "<style scoped>\n",
       "    .dataframe tbody tr th:only-of-type {\n",
       "        vertical-align: middle;\n",
       "    }\n",
       "\n",
       "    .dataframe tbody tr th {\n",
       "        vertical-align: top;\n",
       "    }\n",
       "\n",
       "    .dataframe thead th {\n",
       "        text-align: right;\n",
       "    }\n",
       "</style>\n",
       "<table border=\"1\" class=\"dataframe\">\n",
       "  <thead>\n",
       "    <tr style=\"text-align: right;\">\n",
       "      <th></th>\n",
       "      <th>index</th>\n",
       "      <th>CustomerID</th>\n",
       "      <th>TOTAL_ORDERS</th>\n",
       "      <th>REVENUE</th>\n",
       "      <th>AVERAGE_ORDER_VALUE</th>\n",
       "      <th>CARRIAGE_REVENUE</th>\n",
       "      <th>AVERAGESHIPPING</th>\n",
       "      <th>FIRST_ORDER_DATE</th>\n",
       "      <th>LATEST_ORDER_DATE</th>\n",
       "      <th>AVGDAYSBETWEENORDERS</th>\n",
       "      <th>...</th>\n",
       "      <th>WEEK3_DAY16_DAY23_REVENUE</th>\n",
       "      <th>WEEK4_DAY24_DAY31_REVENUE</th>\n",
       "      <th>TIME_0000_0600_ORDERS</th>\n",
       "      <th>TIME_0601_1200_ORDERS</th>\n",
       "      <th>TIME_1200_1800_ORDERS</th>\n",
       "      <th>TIME_1801_2359_ORDERS</th>\n",
       "      <th>TIME_0000_0600_REVENUE</th>\n",
       "      <th>TIME_0601_1200_REVENUE</th>\n",
       "      <th>TIME_1200_1800_REVENUE</th>\n",
       "      <th>TIME_1801_2359_REVENUE</th>\n",
       "    </tr>\n",
       "  </thead>\n",
       "  <tbody>\n",
       "    <tr>\n",
       "      <th>0</th>\n",
       "      <td>0</td>\n",
       "      <td>2354</td>\n",
       "      <td>124</td>\n",
       "      <td>11986.54</td>\n",
       "      <td>96.67</td>\n",
       "      <td>529.59</td>\n",
       "      <td>4.27</td>\n",
       "      <td>2016-12-30</td>\n",
       "      <td>2021-10-24</td>\n",
       "      <td>14.19</td>\n",
       "      <td>...</td>\n",
       "      <td>2592.18</td>\n",
       "      <td>2409.71</td>\n",
       "      <td>12</td>\n",
       "      <td>61</td>\n",
       "      <td>37</td>\n",
       "      <td>14</td>\n",
       "      <td>1067.92</td>\n",
       "      <td>5674.65</td>\n",
       "      <td>3916.53</td>\n",
       "      <td>1327.44</td>\n",
       "    </tr>\n",
       "    <tr>\n",
       "      <th>1</th>\n",
       "      <td>1</td>\n",
       "      <td>2361</td>\n",
       "      <td>82</td>\n",
       "      <td>11025.96</td>\n",
       "      <td>134.46</td>\n",
       "      <td>97.92</td>\n",
       "      <td>1.19</td>\n",
       "      <td>2018-03-31</td>\n",
       "      <td>2021-10-24</td>\n",
       "      <td>15.89</td>\n",
       "      <td>...</td>\n",
       "      <td>2807.66</td>\n",
       "      <td>4106.19</td>\n",
       "      <td>1</td>\n",
       "      <td>13</td>\n",
       "      <td>24</td>\n",
       "      <td>44</td>\n",
       "      <td>30.25</td>\n",
       "      <td>3143.69</td>\n",
       "      <td>2205.47</td>\n",
       "      <td>5646.55</td>\n",
       "    </tr>\n",
       "    <tr>\n",
       "      <th>2</th>\n",
       "      <td>2</td>\n",
       "      <td>2415</td>\n",
       "      <td>43</td>\n",
       "      <td>7259.69</td>\n",
       "      <td>168.83</td>\n",
       "      <td>171.69</td>\n",
       "      <td>3.99</td>\n",
       "      <td>2017-11-30</td>\n",
       "      <td>2021-10-24</td>\n",
       "      <td>33.12</td>\n",
       "      <td>...</td>\n",
       "      <td>713.94</td>\n",
       "      <td>2861.90</td>\n",
       "      <td>0</td>\n",
       "      <td>6</td>\n",
       "      <td>12</td>\n",
       "      <td>25</td>\n",
       "      <td>0.00</td>\n",
       "      <td>707.98</td>\n",
       "      <td>2560.91</td>\n",
       "      <td>3990.80</td>\n",
       "    </tr>\n",
       "    <tr>\n",
       "      <th>3</th>\n",
       "      <td>3</td>\n",
       "      <td>2427</td>\n",
       "      <td>44</td>\n",
       "      <td>6992.27</td>\n",
       "      <td>158.92</td>\n",
       "      <td>92.82</td>\n",
       "      <td>2.11</td>\n",
       "      <td>2019-04-09</td>\n",
       "      <td>2021-10-24</td>\n",
       "      <td>21.11</td>\n",
       "      <td>...</td>\n",
       "      <td>997.02</td>\n",
       "      <td>1260.08</td>\n",
       "      <td>0</td>\n",
       "      <td>10</td>\n",
       "      <td>13</td>\n",
       "      <td>21</td>\n",
       "      <td>0.00</td>\n",
       "      <td>1908.99</td>\n",
       "      <td>2025.05</td>\n",
       "      <td>3058.23</td>\n",
       "    </tr>\n",
       "    <tr>\n",
       "      <th>4</th>\n",
       "      <td>4</td>\n",
       "      <td>2456</td>\n",
       "      <td>55</td>\n",
       "      <td>6263.44</td>\n",
       "      <td>113.88</td>\n",
       "      <td>179.04</td>\n",
       "      <td>3.26</td>\n",
       "      <td>2020-10-23</td>\n",
       "      <td>2021-10-24</td>\n",
       "      <td>6.65</td>\n",
       "      <td>...</td>\n",
       "      <td>2725.66</td>\n",
       "      <td>768.46</td>\n",
       "      <td>6</td>\n",
       "      <td>9</td>\n",
       "      <td>27</td>\n",
       "      <td>13</td>\n",
       "      <td>501.34</td>\n",
       "      <td>1197.83</td>\n",
       "      <td>3004.77</td>\n",
       "      <td>1559.50</td>\n",
       "    </tr>\n",
       "  </tbody>\n",
       "</table>\n",
       "<p>5 rows × 41 columns</p>\n",
       "</div>"
      ],
      "text/plain": [
       "   index  CustomerID  TOTAL_ORDERS   REVENUE  AVERAGE_ORDER_VALUE  \\\n",
       "0      0        2354           124  11986.54                96.67   \n",
       "1      1        2361            82  11025.96               134.46   \n",
       "2      2        2415            43   7259.69               168.83   \n",
       "3      3        2427            44   6992.27               158.92   \n",
       "4      4        2456            55   6263.44               113.88   \n",
       "\n",
       "   CARRIAGE_REVENUE  AVERAGESHIPPING FIRST_ORDER_DATE LATEST_ORDER_DATE  \\\n",
       "0            529.59             4.27       2016-12-30        2021-10-24   \n",
       "1             97.92             1.19       2018-03-31        2021-10-24   \n",
       "2            171.69             3.99       2017-11-30        2021-10-24   \n",
       "3             92.82             2.11       2019-04-09        2021-10-24   \n",
       "4            179.04             3.26       2020-10-23        2021-10-24   \n",
       "\n",
       "   AVGDAYSBETWEENORDERS  ...  WEEK3_DAY16_DAY23_REVENUE  \\\n",
       "0                 14.19  ...                    2592.18   \n",
       "1                 15.89  ...                    2807.66   \n",
       "2                 33.12  ...                     713.94   \n",
       "3                 21.11  ...                     997.02   \n",
       "4                  6.65  ...                    2725.66   \n",
       "\n",
       "   WEEK4_DAY24_DAY31_REVENUE  TIME_0000_0600_ORDERS  TIME_0601_1200_ORDERS  \\\n",
       "0                    2409.71                     12                     61   \n",
       "1                    4106.19                      1                     13   \n",
       "2                    2861.90                      0                      6   \n",
       "3                    1260.08                      0                     10   \n",
       "4                     768.46                      6                      9   \n",
       "\n",
       "   TIME_1200_1800_ORDERS  TIME_1801_2359_ORDERS  TIME_0000_0600_REVENUE  \\\n",
       "0                     37                     14                 1067.92   \n",
       "1                     24                     44                   30.25   \n",
       "2                     12                     25                    0.00   \n",
       "3                     13                     21                    0.00   \n",
       "4                     27                     13                  501.34   \n",
       "\n",
       "   TIME_0601_1200_REVENUE  TIME_1200_1800_REVENUE  TIME_1801_2359_REVENUE  \n",
       "0                 5674.65                 3916.53                 1327.44  \n",
       "1                 3143.69                 2205.47                 5646.55  \n",
       "2                  707.98                 2560.91                 3990.80  \n",
       "3                 1908.99                 2025.05                 3058.23  \n",
       "4                 1197.83                 3004.77                 1559.50  \n",
       "\n",
       "[5 rows x 41 columns]"
      ]
     },
     "execution_count": 2,
     "metadata": {},
     "output_type": "execute_result"
    }
   ],
   "source": [
    "# Load the data in Df usig df.read_csv.\n",
    "df=pd.read_csv('/kaggle/input/ecommerce-customerssales-record/Sales.csv')\n",
    "df.head()"
   ]
  },
  {
   "cell_type": "code",
   "execution_count": 3,
   "id": "f77aa6a2",
   "metadata": {
    "execution": {
     "iopub.execute_input": "2022-07-23T13:41:50.532534Z",
     "iopub.status.busy": "2022-07-23T13:41:50.531461Z",
     "iopub.status.idle": "2022-07-23T13:41:50.541090Z",
     "shell.execute_reply": "2022-07-23T13:41:50.540146Z"
    },
    "papermill": {
     "duration": 0.025632,
     "end_time": "2022-07-23T13:41:50.543767",
     "exception": false,
     "start_time": "2022-07-23T13:41:50.518135",
     "status": "completed"
    },
    "tags": []
   },
   "outputs": [],
   "source": [
    "# WE store the parameters used in RFM analysis in new dataset\n",
    "Rtl_data=df[['CustomerID','TOTAL_ORDERS','REVENUE','LATEST_ORDER_DATE','AVGDAYSBETWEENORDERS']]"
   ]
  },
  {
   "cell_type": "code",
   "execution_count": 4,
   "id": "4c469339",
   "metadata": {
    "execution": {
     "iopub.execute_input": "2022-07-23T13:41:50.569984Z",
     "iopub.status.busy": "2022-07-23T13:41:50.569343Z",
     "iopub.status.idle": "2022-07-23T13:41:50.581876Z",
     "shell.execute_reply": "2022-07-23T13:41:50.580743Z"
    },
    "papermill": {
     "duration": 0.0284,
     "end_time": "2022-07-23T13:41:50.584107",
     "exception": false,
     "start_time": "2022-07-23T13:41:50.555707",
     "status": "completed"
    },
    "tags": []
   },
   "outputs": [
    {
     "data": {
      "text/html": [
       "<div>\n",
       "<style scoped>\n",
       "    .dataframe tbody tr th:only-of-type {\n",
       "        vertical-align: middle;\n",
       "    }\n",
       "\n",
       "    .dataframe tbody tr th {\n",
       "        vertical-align: top;\n",
       "    }\n",
       "\n",
       "    .dataframe thead th {\n",
       "        text-align: right;\n",
       "    }\n",
       "</style>\n",
       "<table border=\"1\" class=\"dataframe\">\n",
       "  <thead>\n",
       "    <tr style=\"text-align: right;\">\n",
       "      <th></th>\n",
       "      <th>CustomerID</th>\n",
       "      <th>TOTAL_ORDERS</th>\n",
       "      <th>REVENUE</th>\n",
       "      <th>LATEST_ORDER_DATE</th>\n",
       "      <th>AVGDAYSBETWEENORDERS</th>\n",
       "    </tr>\n",
       "  </thead>\n",
       "  <tbody>\n",
       "    <tr>\n",
       "      <th>0</th>\n",
       "      <td>2354</td>\n",
       "      <td>124</td>\n",
       "      <td>11986.54</td>\n",
       "      <td>2021-10-24</td>\n",
       "      <td>14.19</td>\n",
       "    </tr>\n",
       "    <tr>\n",
       "      <th>1</th>\n",
       "      <td>2361</td>\n",
       "      <td>82</td>\n",
       "      <td>11025.96</td>\n",
       "      <td>2021-10-24</td>\n",
       "      <td>15.89</td>\n",
       "    </tr>\n",
       "    <tr>\n",
       "      <th>2</th>\n",
       "      <td>2415</td>\n",
       "      <td>43</td>\n",
       "      <td>7259.69</td>\n",
       "      <td>2021-10-24</td>\n",
       "      <td>33.12</td>\n",
       "    </tr>\n",
       "    <tr>\n",
       "      <th>3</th>\n",
       "      <td>2427</td>\n",
       "      <td>44</td>\n",
       "      <td>6992.27</td>\n",
       "      <td>2021-10-24</td>\n",
       "      <td>21.11</td>\n",
       "    </tr>\n",
       "    <tr>\n",
       "      <th>4</th>\n",
       "      <td>2456</td>\n",
       "      <td>55</td>\n",
       "      <td>6263.44</td>\n",
       "      <td>2021-10-24</td>\n",
       "      <td>6.65</td>\n",
       "    </tr>\n",
       "  </tbody>\n",
       "</table>\n",
       "</div>"
      ],
      "text/plain": [
       "   CustomerID  TOTAL_ORDERS   REVENUE LATEST_ORDER_DATE  AVGDAYSBETWEENORDERS\n",
       "0        2354           124  11986.54        2021-10-24                 14.19\n",
       "1        2361            82  11025.96        2021-10-24                 15.89\n",
       "2        2415            43   7259.69        2021-10-24                 33.12\n",
       "3        2427            44   6992.27        2021-10-24                 21.11\n",
       "4        2456            55   6263.44        2021-10-24                  6.65"
      ]
     },
     "execution_count": 4,
     "metadata": {},
     "output_type": "execute_result"
    }
   ],
   "source": [
    "Rtl_data.head()"
   ]
  },
  {
   "cell_type": "code",
   "execution_count": 5,
   "id": "722527d3",
   "metadata": {
    "execution": {
     "iopub.execute_input": "2022-07-23T13:41:50.610650Z",
     "iopub.status.busy": "2022-07-23T13:41:50.610035Z",
     "iopub.status.idle": "2022-07-23T13:41:50.625841Z",
     "shell.execute_reply": "2022-07-23T13:41:50.624674Z"
    },
    "papermill": {
     "duration": 0.032473,
     "end_time": "2022-07-23T13:41:50.628690",
     "exception": false,
     "start_time": "2022-07-23T13:41:50.596217",
     "status": "completed"
    },
    "tags": []
   },
   "outputs": [
    {
     "data": {
      "text/plain": [
       "CustomerID                  279492\n",
       "TOTAL_ORDERS                   156\n",
       "REVENUE                    34847.4\n",
       "LATEST_ORDER_DATE       2021-10-24\n",
       "AVGDAYSBETWEENORDERS        1409.5\n",
       "dtype: object"
      ]
     },
     "execution_count": 5,
     "metadata": {},
     "output_type": "execute_result"
    }
   ],
   "source": [
    "Rtl_data.max()"
   ]
  },
  {
   "cell_type": "markdown",
   "id": "aa9eaa8a",
   "metadata": {
    "papermill": {
     "duration": 0.012149,
     "end_time": "2022-07-23T13:41:50.654047",
     "exception": false,
     "start_time": "2022-07-23T13:41:50.641898",
     "status": "completed"
    },
    "tags": []
   },
   "source": [
    "# RFM Score (Recency, Frequency, and Monetary Score)\n",
    "* Recency means when the last time you bought something from the site\n",
    "* Frequency means how frequently you buy something from the site\n",
    "* Monetary means how revenue is being generated by you\n",
    "\n",
    "We give scores for all three category and add them together, This is called RFM score\n",
    "\n",
    "**Highet RFM Score means customer is more loyal the customer is**"
   ]
  },
  {
   "cell_type": "markdown",
   "id": "22e46613",
   "metadata": {
    "papermill": {
     "duration": 0.01861,
     "end_time": "2022-07-23T13:41:50.687886",
     "exception": false,
     "start_time": "2022-07-23T13:41:50.669276",
     "status": "completed"
    },
    "tags": []
   },
   "source": [
    "<img src=\"https://www.retailreco.com/blog/wp-content/uploads/2018/11/RFM-Analytics.jpg\" width=\"600\">"
   ]
  },
  {
   "cell_type": "markdown",
   "id": "fe4b03ad",
   "metadata": {
    "papermill": {
     "duration": 0.017073,
     "end_time": "2022-07-23T13:41:50.717778",
     "exception": false,
     "start_time": "2022-07-23T13:41:50.700705",
     "status": "completed"
    },
    "tags": []
   },
   "source": [
    "#### **For Recency: We find the difference between Lastest date and date of last purchase**\n",
    "* For Example: The is is purchased my last order on 22 october and last date on the record is 24 october then  my Recency Score is (24-22)=2"
   ]
  },
  {
   "cell_type": "markdown",
   "id": "b1ae217d",
   "metadata": {
    "papermill": {
     "duration": 0.018507,
     "end_time": "2022-07-23T13:41:50.755136",
     "exception": false,
     "start_time": "2022-07-23T13:41:50.736629",
     "status": "completed"
    },
    "tags": []
   },
   "source": [
    "####  **For Frequency: We used the the data of the column 'AVGDAYSBETWEENORDERS'. The gap between each order is called Frequency**\n",
    "* For Example: The is is purchased something very week that mean my frquency of order is 1 week or 7 days so  **Frequency Score=7**"
   ]
  },
  {
   "cell_type": "markdown",
   "id": "8bd0d7b9",
   "metadata": {
    "papermill": {
     "duration": 0.018627,
     "end_time": "2022-07-23T13:41:50.792557",
     "exception": false,
     "start_time": "2022-07-23T13:41:50.773930",
     "status": "completed"
    },
    "tags": []
   },
   "source": [
    "####  **For Monetary: We Calculate the Total Revenue generated by that person**\n",
    "* For Example: If I bought products of worth 20,000 from myntra in my life than my Monetary is 20,000  so **Monetary Score=20,000**"
   ]
  },
  {
   "cell_type": "code",
   "execution_count": 6,
   "id": "1b11f9a0",
   "metadata": {
    "execution": {
     "iopub.execute_input": "2022-07-23T13:41:50.825308Z",
     "iopub.status.busy": "2022-07-23T13:41:50.824338Z",
     "iopub.status.idle": "2022-07-23T13:41:52.175398Z",
     "shell.execute_reply": "2022-07-23T13:41:52.174217Z"
    },
    "papermill": {
     "duration": 1.367519,
     "end_time": "2022-07-23T13:41:52.177929",
     "exception": false,
     "start_time": "2022-07-23T13:41:50.810410",
     "status": "completed"
    },
    "tags": []
   },
   "outputs": [
    {
     "data": {
      "text/html": [
       "<div>\n",
       "<style scoped>\n",
       "    .dataframe tbody tr th:only-of-type {\n",
       "        vertical-align: middle;\n",
       "    }\n",
       "\n",
       "    .dataframe tbody tr th {\n",
       "        vertical-align: top;\n",
       "    }\n",
       "\n",
       "    .dataframe thead th {\n",
       "        text-align: right;\n",
       "    }\n",
       "</style>\n",
       "<table border=\"1\" class=\"dataframe\">\n",
       "  <thead>\n",
       "    <tr style=\"text-align: right;\">\n",
       "      <th></th>\n",
       "      <th>CustomerID</th>\n",
       "      <th>Recency</th>\n",
       "      <th>Frequency</th>\n",
       "      <th>Monetary</th>\n",
       "    </tr>\n",
       "  </thead>\n",
       "  <tbody>\n",
       "    <tr>\n",
       "      <th>0</th>\n",
       "      <td>2333</td>\n",
       "      <td>52</td>\n",
       "      <td>8</td>\n",
       "      <td>34847</td>\n",
       "    </tr>\n",
       "    <tr>\n",
       "      <th>1</th>\n",
       "      <td>2334</td>\n",
       "      <td>93</td>\n",
       "      <td>15</td>\n",
       "      <td>32486</td>\n",
       "    </tr>\n",
       "    <tr>\n",
       "      <th>2</th>\n",
       "      <td>2335</td>\n",
       "      <td>52</td>\n",
       "      <td>24</td>\n",
       "      <td>24178</td>\n",
       "    </tr>\n",
       "    <tr>\n",
       "      <th>3</th>\n",
       "      <td>2336</td>\n",
       "      <td>4</td>\n",
       "      <td>21</td>\n",
       "      <td>18554</td>\n",
       "    </tr>\n",
       "    <tr>\n",
       "      <th>4</th>\n",
       "      <td>2337</td>\n",
       "      <td>129</td>\n",
       "      <td>76</td>\n",
       "      <td>16884</td>\n",
       "    </tr>\n",
       "  </tbody>\n",
       "</table>\n",
       "</div>"
      ],
      "text/plain": [
       "   CustomerID  Recency  Frequency  Monetary\n",
       "0        2333       52          8     34847\n",
       "1        2334       93         15     32486\n",
       "2        2335       52         24     24178\n",
       "3        2336        4         21     18554\n",
       "4        2337      129         76     16884"
      ]
     },
     "execution_count": 6,
     "metadata": {},
     "output_type": "execute_result"
    }
   ],
   "source": [
    "\n",
    "import datetime as dt\n",
    "\n",
    "#Set Latest date 2011-12-10 as last invoice date was 2021-10-24. This is to calculate the number of days from recent purchase\n",
    "Latest_Date = dt.datetime(2021,10,24)\n",
    "\n",
    "#Create RFM Modelling scores for each customer\n",
    "RFMScores = Rtl_data.groupby('CustomerID').agg({'LATEST_ORDER_DATE': lambda x: (Latest_Date - pd.to_datetime(x.max())).days, 'AVGDAYSBETWEENORDERS': lambda x: int(x), 'REVENUE': lambda x: int(x)})\n",
    "\n",
    "#Convert Invoice Date into type int\n",
    "RFMScores['LATEST_ORDER_DATE'] = RFMScores['LATEST_ORDER_DATE'].astype(int)\n",
    "\n",
    "#Rename column names to Recency, Frequency and Monetary\n",
    "RFMScores.rename(columns={'LATEST_ORDER_DATE': 'Recency', \n",
    "                         'AVGDAYSBETWEENORDERS': 'Frequency', \n",
    "                         'REVENUE': 'Monetary'}, inplace=True)\n",
    "\n",
    "RFMScores.reset_index().head()"
   ]
  },
  {
   "cell_type": "markdown",
   "id": "68c502eb",
   "metadata": {
    "papermill": {
     "duration": 0.012711,
     "end_time": "2022-07-23T13:41:52.203509",
     "exception": false,
     "start_time": "2022-07-23T13:41:52.190798",
     "status": "completed"
    },
    "tags": []
   },
   "source": [
    "# We plot each Row"
   ]
  },
  {
   "cell_type": "markdown",
   "id": "4199c89d",
   "metadata": {
    "execution": {
     "iopub.execute_input": "2022-07-22T19:03:08.810973Z",
     "iopub.status.busy": "2022-07-22T19:03:08.810583Z",
     "iopub.status.idle": "2022-07-22T19:03:08.814622Z",
     "shell.execute_reply": "2022-07-22T19:03:08.814035Z",
     "shell.execute_reply.started": "2022-07-22T19:03:08.810948Z"
    },
    "papermill": {
     "duration": 0.012305,
     "end_time": "2022-07-23T13:41:52.228773",
     "exception": false,
     "start_time": "2022-07-23T13:41:52.216468",
     "status": "completed"
    },
    "tags": []
   },
   "source": [
    "# Recency Visualization"
   ]
  },
  {
   "cell_type": "code",
   "execution_count": 7,
   "id": "687fe52d",
   "metadata": {
    "execution": {
     "iopub.execute_input": "2022-07-23T13:41:52.255677Z",
     "iopub.status.busy": "2022-07-23T13:41:52.255289Z",
     "iopub.status.idle": "2022-07-23T13:41:52.266871Z",
     "shell.execute_reply": "2022-07-23T13:41:52.266130Z"
    },
    "papermill": {
     "duration": 0.02742,
     "end_time": "2022-07-23T13:41:52.268829",
     "exception": false,
     "start_time": "2022-07-23T13:41:52.241409",
     "status": "completed"
    },
    "tags": []
   },
   "outputs": [
    {
     "data": {
      "text/plain": [
       "count    5000.000000\n",
       "mean       86.420000\n",
       "std        80.156513\n",
       "min         0.000000\n",
       "25%         6.000000\n",
       "50%        67.000000\n",
       "75%       170.250000\n",
       "max       206.000000\n",
       "Name: Recency, dtype: float64"
      ]
     },
     "execution_count": 7,
     "metadata": {},
     "output_type": "execute_result"
    }
   ],
   "source": [
    "RFMScores.Recency.describe()"
   ]
  },
  {
   "cell_type": "code",
   "execution_count": 8,
   "id": "fc6b294e",
   "metadata": {
    "execution": {
     "iopub.execute_input": "2022-07-23T13:41:52.297398Z",
     "iopub.status.busy": "2022-07-23T13:41:52.295532Z",
     "iopub.status.idle": "2022-07-23T13:41:52.555022Z",
     "shell.execute_reply": "2022-07-23T13:41:52.553655Z"
    },
    "papermill": {
     "duration": 0.275961,
     "end_time": "2022-07-23T13:41:52.557479",
     "exception": false,
     "start_time": "2022-07-23T13:41:52.281518",
     "status": "completed"
    },
    "tags": []
   },
   "outputs": [
    {
     "name": "stderr",
     "output_type": "stream",
     "text": [
      "/opt/conda/lib/python3.7/site-packages/seaborn/distributions.py:2619: FutureWarning: `distplot` is a deprecated function and will be removed in a future version. Please adapt your code to use either `displot` (a figure-level function with similar flexibility) or `histplot` (an axes-level function for histograms).\n",
      "  warnings.warn(msg, FutureWarning)\n"
     ]
    },
    {
     "data": {
      "image/png": "[encoded data removed]",
      "text/plain": [
       "<Figure size 432x288 with 1 Axes>"
      ]
     },
     "metadata": {
      "needs_background": "light"
     },
     "output_type": "display_data"
    }
   ],
   "source": [
    "x = RFMScores['Recency']\n",
    "ax = sns.distplot(x)"
   ]
  },
  {
   "cell_type": "markdown",
   "id": "51121d9e",
   "metadata": {
    "papermill": {
     "duration": 0.01281,
     "end_time": "2022-07-23T13:41:52.583819",
     "exception": false,
     "start_time": "2022-07-23T13:41:52.571009",
     "status": "completed"
    },
    "tags": []
   },
   "source": [
    "# Frequency Visualization"
   ]
  },
  {
   "cell_type": "code",
   "execution_count": 9,
   "id": "2204f99f",
   "metadata": {
    "execution": {
     "iopub.execute_input": "2022-07-23T13:41:52.612358Z",
     "iopub.status.busy": "2022-07-23T13:41:52.611372Z",
     "iopub.status.idle": "2022-07-23T13:41:52.623132Z",
     "shell.execute_reply": "2022-07-23T13:41:52.621956Z"
    },
    "papermill": {
     "duration": 0.028484,
     "end_time": "2022-07-23T13:41:52.625435",
     "exception": false,
     "start_time": "2022-07-23T13:41:52.596951",
     "status": "completed"
    },
    "tags": []
   },
   "outputs": [
    {
     "data": {
      "text/plain": [
       "count    5000.000000\n",
       "mean      162.777200\n",
       "std       259.703254\n",
       "min         0.000000\n",
       "25%        21.000000\n",
       "50%        57.000000\n",
       "75%       170.000000\n",
       "max      1409.000000\n",
       "Name: Frequency, dtype: float64"
      ]
     },
     "execution_count": 9,
     "metadata": {},
     "output_type": "execute_result"
    }
   ],
   "source": [
    "RFMScores.Frequency.describe()"
   ]
  },
  {
   "cell_type": "code",
   "execution_count": 10,
   "id": "09ceb409",
   "metadata": {
    "execution": {
     "iopub.execute_input": "2022-07-23T13:41:52.654261Z",
     "iopub.status.busy": "2022-07-23T13:41:52.653451Z",
     "iopub.status.idle": "2022-07-23T13:41:52.948245Z",
     "shell.execute_reply": "2022-07-23T13:41:52.946997Z"
    },
    "papermill": {
     "duration": 0.312167,
     "end_time": "2022-07-23T13:41:52.950801",
     "exception": false,
     "start_time": "2022-07-23T13:41:52.638634",
     "status": "completed"
    },
    "tags": []
   },
   "outputs": [
    {
     "name": "stderr",
     "output_type": "stream",
     "text": [
      "/opt/conda/lib/python3.7/site-packages/seaborn/distributions.py:2619: FutureWarning: `distplot` is a deprecated function and will be removed in a future version. Please adapt your code to use either `displot` (a figure-level function with similar flexibility) or `histplot` (an axes-level function for histograms).\n",
      "  warnings.warn(msg, FutureWarning)\n"
     ]
    },
    {
     "data": {
      "image/png": "[encoded data removed]",
      "text/plain": [
       "<Figure size 432x288 with 1 Axes>"
      ]
     },
     "metadata": {
      "needs_background": "light"
     },
     "output_type": "display_data"
    }
   ],
   "source": [
    "x = RFMScores.query('Frequency < 1000')['Frequency']\n",
    "\n",
    "ax = sns.distplot(x)"
   ]
  },
  {
   "cell_type": "markdown",
   "id": "e5696a1d",
   "metadata": {
    "papermill": {
     "duration": 0.013567,
     "end_time": "2022-07-23T13:41:52.978467",
     "exception": false,
     "start_time": "2022-07-23T13:41:52.964900",
     "status": "completed"
    },
    "tags": []
   },
   "source": [
    "# Monetary Visualization"
   ]
  },
  {
   "cell_type": "code",
   "execution_count": 11,
   "id": "3ed70467",
   "metadata": {
    "execution": {
     "iopub.execute_input": "2022-07-23T13:41:53.008573Z",
     "iopub.status.busy": "2022-07-23T13:41:53.007578Z",
     "iopub.status.idle": "2022-07-23T13:41:53.019886Z",
     "shell.execute_reply": "2022-07-23T13:41:53.018799Z"
    },
    "papermill": {
     "duration": 0.030118,
     "end_time": "2022-07-23T13:41:53.022184",
     "exception": false,
     "start_time": "2022-07-23T13:41:52.992066",
     "status": "completed"
    },
    "tags": []
   },
   "outputs": [
    {
     "data": {
      "text/plain": [
       "count     5000.000000\n",
       "mean      1680.951600\n",
       "std       1998.637336\n",
       "min         38.000000\n",
       "25%        315.000000\n",
       "50%        966.000000\n",
       "75%       2492.500000\n",
       "max      34847.000000\n",
       "Name: Monetary, dtype: float64"
      ]
     },
     "execution_count": 11,
     "metadata": {},
     "output_type": "execute_result"
    }
   ],
   "source": [
    "RFMScores.Monetary.describe()"
   ]
  },
  {
   "cell_type": "code",
   "execution_count": 12,
   "id": "0bc8dc33",
   "metadata": {
    "execution": {
     "iopub.execute_input": "2022-07-23T13:41:53.053004Z",
     "iopub.status.busy": "2022-07-23T13:41:53.052215Z",
     "iopub.status.idle": "2022-07-23T13:41:53.324548Z",
     "shell.execute_reply": "2022-07-23T13:41:53.323613Z"
    },
    "papermill": {
     "duration": 0.290862,
     "end_time": "2022-07-23T13:41:53.327303",
     "exception": false,
     "start_time": "2022-07-23T13:41:53.036441",
     "status": "completed"
    },
    "tags": []
   },
   "outputs": [
    {
     "name": "stderr",
     "output_type": "stream",
     "text": [
      "/opt/conda/lib/python3.7/site-packages/seaborn/distributions.py:2619: FutureWarning: `distplot` is a deprecated function and will be removed in a future version. Please adapt your code to use either `displot` (a figure-level function with similar flexibility) or `histplot` (an axes-level function for histograms).\n",
      "  warnings.warn(msg, FutureWarning)\n"
     ]
    },
    {
     "data": {
      "image/png": "[encoded data removed]",
      "text/plain": [
       "<Figure size 432x288 with 1 Axes>"
      ]
     },
     "metadata": {
      "needs_background": "light"
     },
     "output_type": "display_data"
    }
   ],
   "source": [
    "x = RFMScores.query('Monetary < 10000')['Monetary']\n",
    "\n",
    "ax = sns.distplot(x)"
   ]
  },
  {
   "cell_type": "markdown",
   "id": "e56e06f5",
   "metadata": {
    "papermill": {
     "duration": 0.013809,
     "end_time": "2022-07-23T13:41:53.355443",
     "exception": false,
     "start_time": "2022-07-23T13:41:53.341634",
     "status": "completed"
    },
    "tags": []
   },
   "source": [
    "# Dicivde the values in 4 pieces\n",
    "* 0-25%\n",
    "* 25%-50%\n",
    "* 50%-80%\n",
    "* 80%-100%\n",
    "in accending order of the values\n"
   ]
  },
  {
   "cell_type": "code",
   "execution_count": 13,
   "id": "8a38675c",
   "metadata": {
    "execution": {
     "iopub.execute_input": "2022-07-23T13:41:53.386073Z",
     "iopub.status.busy": "2022-07-23T13:41:53.385296Z",
     "iopub.status.idle": "2022-07-23T13:41:53.392369Z",
     "shell.execute_reply": "2022-07-23T13:41:53.391532Z"
    },
    "papermill": {
     "duration": 0.025171,
     "end_time": "2022-07-23T13:41:53.394711",
     "exception": false,
     "start_time": "2022-07-23T13:41:53.369540",
     "status": "completed"
    },
    "tags": []
   },
   "outputs": [],
   "source": [
    "quantiles = RFMScores.quantile(q=[0.25,0.5,0.80])\n",
    "quantiles = quantiles.to_dict()"
   ]
  },
  {
   "cell_type": "markdown",
   "id": "5fc9dbe0",
   "metadata": {
    "papermill": {
     "duration": 0.013817,
     "end_time": "2022-07-23T13:41:53.422711",
     "exception": false,
     "start_time": "2022-07-23T13:41:53.408894",
     "status": "completed"
    },
    "tags": []
   },
   "source": [
    "We can see the value on each cutting point"
   ]
  },
  {
   "cell_type": "code",
   "execution_count": 14,
   "id": "83c47f5f",
   "metadata": {
    "execution": {
     "iopub.execute_input": "2022-07-23T13:41:53.452883Z",
     "iopub.status.busy": "2022-07-23T13:41:53.452107Z",
     "iopub.status.idle": "2022-07-23T13:41:53.459277Z",
     "shell.execute_reply": "2022-07-23T13:41:53.458308Z"
    },
    "papermill": {
     "duration": 0.02463,
     "end_time": "2022-07-23T13:41:53.461436",
     "exception": false,
     "start_time": "2022-07-23T13:41:53.436806",
     "status": "completed"
    },
    "tags": []
   },
   "outputs": [
    {
     "data": {
      "text/plain": [
       "{'Recency': {0.25: 6.0, 0.5: 67.0, 0.8: 206.0},\n",
       " 'Frequency': {0.25: 21.0, 0.5: 57.0, 0.8: 235.0},\n",
       " 'Monetary': {0.25: 315.0, 0.5: 966.0, 0.8: 3026.2000000000003}}"
      ]
     },
     "execution_count": 14,
     "metadata": {},
     "output_type": "execute_result"
    }
   ],
   "source": [
    "quantiles"
   ]
  },
  {
   "cell_type": "markdown",
   "id": "7fa7044a",
   "metadata": {
    "papermill": {
     "duration": 0.014108,
     "end_time": "2022-07-23T13:41:53.489748",
     "exception": false,
     "start_time": "2022-07-23T13:41:53.475640",
     "status": "completed"
    },
    "tags": []
   },
   "source": [
    "# Define a function to give score ( Note: Low RFM is concidered Good)\n",
    "* For exapmle For top 25% revenue Generaters will get 1 score\n",
    "* next 25 % will get score of 2 and so on\n",
    "* Process will be similiar for Rvenuen And Frequency... higher the value lower the score\n",
    "* But but but for Recency it will be opposite.. that is lower the Recency lower the score\n",
    "* becouse lower is the recency lower the score"
   ]
  },
  {
   "cell_type": "code",
   "execution_count": 15,
   "id": "e9dbe58d",
   "metadata": {
    "execution": {
     "iopub.execute_input": "2022-07-23T13:41:53.520964Z",
     "iopub.status.busy": "2022-07-23T13:41:53.520231Z",
     "iopub.status.idle": "2022-07-23T13:41:53.528096Z",
     "shell.execute_reply": "2022-07-23T13:41:53.527269Z"
    },
    "papermill": {
     "duration": 0.025897,
     "end_time": "2022-07-23T13:41:53.530371",
     "exception": false,
     "start_time": "2022-07-23T13:41:53.504474",
     "status": "completed"
    },
    "tags": []
   },
   "outputs": [],
   "source": [
    "# For Recency lower the value lower the score(better)\n",
    "def RScoring(x,p,d):\n",
    "    if x <= d[p][0.25]:\n",
    "        return 1\n",
    "    elif x <= d[p][0.50]:\n",
    "        return 2\n",
    "    elif x <= d[p][0.80]: \n",
    "        return 3\n",
    "    else:\n",
    "        return 4\n",
    "# For Frequewncy and Monetary, higher the value lower the score( better)\n",
    "def FnMScoring(x,p,d):\n",
    "    if x <= d[p][0.25]:\n",
    "        return 4\n",
    "    elif x <= d[p][0.50]:\n",
    "        return 3\n",
    "    elif x <= d[p][0.80]: \n",
    "        return 2\n",
    "    else:\n",
    "        return 1"
   ]
  },
  {
   "cell_type": "code",
   "execution_count": 16,
   "id": "8e32346a",
   "metadata": {
    "execution": {
     "iopub.execute_input": "2022-07-23T13:41:53.561024Z",
     "iopub.status.busy": "2022-07-23T13:41:53.560263Z",
     "iopub.status.idle": "2022-07-23T13:41:53.597347Z",
     "shell.execute_reply": "2022-07-23T13:41:53.596055Z"
    },
    "papermill": {
     "duration": 0.055348,
     "end_time": "2022-07-23T13:41:53.599923",
     "exception": false,
     "start_time": "2022-07-23T13:41:53.544575",
     "status": "completed"
    },
    "tags": []
   },
   "outputs": [
    {
     "data": {
      "text/html": [
       "<div>\n",
       "<style scoped>\n",
       "    .dataframe tbody tr th:only-of-type {\n",
       "        vertical-align: middle;\n",
       "    }\n",
       "\n",
       "    .dataframe tbody tr th {\n",
       "        vertical-align: top;\n",
       "    }\n",
       "\n",
       "    .dataframe thead th {\n",
       "        text-align: right;\n",
       "    }\n",
       "</style>\n",
       "<table border=\"1\" class=\"dataframe\">\n",
       "  <thead>\n",
       "    <tr style=\"text-align: right;\">\n",
       "      <th></th>\n",
       "      <th>Recency</th>\n",
       "      <th>Frequency</th>\n",
       "      <th>Monetary</th>\n",
       "      <th>R</th>\n",
       "      <th>F</th>\n",
       "      <th>M</th>\n",
       "    </tr>\n",
       "    <tr>\n",
       "      <th>CustomerID</th>\n",
       "      <th></th>\n",
       "      <th></th>\n",
       "      <th></th>\n",
       "      <th></th>\n",
       "      <th></th>\n",
       "      <th></th>\n",
       "    </tr>\n",
       "  </thead>\n",
       "  <tbody>\n",
       "    <tr>\n",
       "      <th>2333</th>\n",
       "      <td>52</td>\n",
       "      <td>8</td>\n",
       "      <td>34847</td>\n",
       "      <td>2</td>\n",
       "      <td>4</td>\n",
       "      <td>1</td>\n",
       "    </tr>\n",
       "    <tr>\n",
       "      <th>2334</th>\n",
       "      <td>93</td>\n",
       "      <td>15</td>\n",
       "      <td>32486</td>\n",
       "      <td>3</td>\n",
       "      <td>4</td>\n",
       "      <td>1</td>\n",
       "    </tr>\n",
       "    <tr>\n",
       "      <th>2335</th>\n",
       "      <td>52</td>\n",
       "      <td>24</td>\n",
       "      <td>24178</td>\n",
       "      <td>2</td>\n",
       "      <td>3</td>\n",
       "      <td>1</td>\n",
       "    </tr>\n",
       "    <tr>\n",
       "      <th>2336</th>\n",
       "      <td>4</td>\n",
       "      <td>21</td>\n",
       "      <td>18554</td>\n",
       "      <td>1</td>\n",
       "      <td>4</td>\n",
       "      <td>1</td>\n",
       "    </tr>\n",
       "    <tr>\n",
       "      <th>2337</th>\n",
       "      <td>129</td>\n",
       "      <td>76</td>\n",
       "      <td>16884</td>\n",
       "      <td>3</td>\n",
       "      <td>2</td>\n",
       "      <td>1</td>\n",
       "    </tr>\n",
       "  </tbody>\n",
       "</table>\n",
       "</div>"
      ],
      "text/plain": [
       "            Recency  Frequency  Monetary  R  F  M\n",
       "CustomerID                                       \n",
       "2333             52          8     34847  2  4  1\n",
       "2334             93         15     32486  3  4  1\n",
       "2335             52         24     24178  2  3  1\n",
       "2336              4         21     18554  1  4  1\n",
       "2337            129         76     16884  3  2  1"
      ]
     },
     "execution_count": 16,
     "metadata": {},
     "output_type": "execute_result"
    }
   ],
   "source": [
    "# Calling each function with the arguments\n",
    "RFMScores['R'] = RFMScores['Recency'].apply(RScoring, args=('Recency',quantiles,))\n",
    "RFMScores['F'] = RFMScores['Frequency'].apply(FnMScoring, args=('Frequency',quantiles,))\n",
    "RFMScores['M'] = RFMScores['Monetary'].apply(FnMScoring, args=('Monetary',quantiles,))\n",
    "RFMScores.head()"
   ]
  },
  {
   "cell_type": "markdown",
   "id": "5fb555da",
   "metadata": {
    "papermill": {
     "duration": 0.014403,
     "end_time": "2022-07-23T13:41:53.629162",
     "exception": false,
     "start_time": "2022-07-23T13:41:53.614759",
     "status": "completed"
    },
    "tags": []
   },
   "source": [
    "## We Get the Total RFM score by adding all columns"
   ]
  },
  {
   "cell_type": "code",
   "execution_count": 17,
   "id": "be8c7573",
   "metadata": {
    "execution": {
     "iopub.execute_input": "2022-07-23T13:41:53.660688Z",
     "iopub.status.busy": "2022-07-23T13:41:53.659902Z",
     "iopub.status.idle": "2022-07-23T13:41:53.683766Z",
     "shell.execute_reply": "2022-07-23T13:41:53.682627Z"
    },
    "papermill": {
     "duration": 0.042505,
     "end_time": "2022-07-23T13:41:53.686303",
     "exception": false,
     "start_time": "2022-07-23T13:41:53.643798",
     "status": "completed"
    },
    "tags": []
   },
   "outputs": [
    {
     "data": {
      "text/html": [
       "<div>\n",
       "<style scoped>\n",
       "    .dataframe tbody tr th:only-of-type {\n",
       "        vertical-align: middle;\n",
       "    }\n",
       "\n",
       "    .dataframe tbody tr th {\n",
       "        vertical-align: top;\n",
       "    }\n",
       "\n",
       "    .dataframe thead th {\n",
       "        text-align: right;\n",
       "    }\n",
       "</style>\n",
       "<table border=\"1\" class=\"dataframe\">\n",
       "  <thead>\n",
       "    <tr style=\"text-align: right;\">\n",
       "      <th></th>\n",
       "      <th>Recency</th>\n",
       "      <th>Frequency</th>\n",
       "      <th>Monetary</th>\n",
       "      <th>R</th>\n",
       "      <th>F</th>\n",
       "      <th>M</th>\n",
       "      <th>RFMGroup</th>\n",
       "      <th>RFMScore</th>\n",
       "    </tr>\n",
       "    <tr>\n",
       "      <th>CustomerID</th>\n",
       "      <th></th>\n",
       "      <th></th>\n",
       "      <th></th>\n",
       "      <th></th>\n",
       "      <th></th>\n",
       "      <th></th>\n",
       "      <th></th>\n",
       "      <th></th>\n",
       "    </tr>\n",
       "  </thead>\n",
       "  <tbody>\n",
       "    <tr>\n",
       "      <th>2333</th>\n",
       "      <td>52</td>\n",
       "      <td>8</td>\n",
       "      <td>34847</td>\n",
       "      <td>2</td>\n",
       "      <td>4</td>\n",
       "      <td>1</td>\n",
       "      <td>241</td>\n",
       "      <td>7</td>\n",
       "    </tr>\n",
       "    <tr>\n",
       "      <th>2334</th>\n",
       "      <td>93</td>\n",
       "      <td>15</td>\n",
       "      <td>32486</td>\n",
       "      <td>3</td>\n",
       "      <td>4</td>\n",
       "      <td>1</td>\n",
       "      <td>341</td>\n",
       "      <td>8</td>\n",
       "    </tr>\n",
       "    <tr>\n",
       "      <th>2335</th>\n",
       "      <td>52</td>\n",
       "      <td>24</td>\n",
       "      <td>24178</td>\n",
       "      <td>2</td>\n",
       "      <td>3</td>\n",
       "      <td>1</td>\n",
       "      <td>231</td>\n",
       "      <td>6</td>\n",
       "    </tr>\n",
       "    <tr>\n",
       "      <th>2336</th>\n",
       "      <td>4</td>\n",
       "      <td>21</td>\n",
       "      <td>18554</td>\n",
       "      <td>1</td>\n",
       "      <td>4</td>\n",
       "      <td>1</td>\n",
       "      <td>141</td>\n",
       "      <td>6</td>\n",
       "    </tr>\n",
       "    <tr>\n",
       "      <th>2337</th>\n",
       "      <td>129</td>\n",
       "      <td>76</td>\n",
       "      <td>16884</td>\n",
       "      <td>3</td>\n",
       "      <td>2</td>\n",
       "      <td>1</td>\n",
       "      <td>321</td>\n",
       "      <td>6</td>\n",
       "    </tr>\n",
       "  </tbody>\n",
       "</table>\n",
       "</div>"
      ],
      "text/plain": [
       "            Recency  Frequency  Monetary  R  F  M RFMGroup  RFMScore\n",
       "CustomerID                                                          \n",
       "2333             52          8     34847  2  4  1      241         7\n",
       "2334             93         15     32486  3  4  1      341         8\n",
       "2335             52         24     24178  2  3  1      231         6\n",
       "2336              4         21     18554  1  4  1      141         6\n",
       "2337            129         76     16884  3  2  1      321         6"
      ]
     },
     "execution_count": 17,
     "metadata": {},
     "output_type": "execute_result"
    }
   ],
   "source": [
    "#Calculate and Add RFMGroup value column showing combined concatenated score of RFM\n",
    "RFMScores['RFMGroup'] = RFMScores.R.map(str) + RFMScores.F.map(str) + RFMScores.M.map(str)\n",
    "\n",
    "#Calculate and Add RFMScore value column showing total sum of RFMGroup values\n",
    "RFMScores['RFMScore'] = RFMScores[['R', 'F', 'M']].sum(axis = 1)\n",
    "RFMScores.head()"
   ]
  },
  {
   "cell_type": "markdown",
   "id": "2f83b348",
   "metadata": {
    "papermill": {
     "duration": 0.014521,
     "end_time": "2022-07-23T13:41:53.715704",
     "exception": false,
     "start_time": "2022-07-23T13:41:53.701183",
     "status": "completed"
    },
    "tags": []
   },
   "source": [
    "## Visualization of the distribution"
   ]
  },
  {
   "cell_type": "code",
   "execution_count": 18,
   "id": "3b2c2742",
   "metadata": {
    "execution": {
     "iopub.execute_input": "2022-07-23T13:41:53.747208Z",
     "iopub.status.busy": "2022-07-23T13:41:53.746795Z",
     "iopub.status.idle": "2022-07-23T13:41:53.942654Z",
     "shell.execute_reply": "2022-07-23T13:41:53.941223Z"
    },
    "papermill": {
     "duration": 0.214742,
     "end_time": "2022-07-23T13:41:53.945402",
     "exception": false,
     "start_time": "2022-07-23T13:41:53.730660",
     "status": "completed"
    },
    "tags": []
   },
   "outputs": [
    {
     "name": "stderr",
     "output_type": "stream",
     "text": [
      "/opt/conda/lib/python3.7/site-packages/seaborn/_decorators.py:43: FutureWarning: Pass the following variable as a keyword arg: x. From version 0.12, the only valid positional argument will be `data`, and passing other arguments without an explicit keyword will result in an error or misinterpretation.\n",
      "  FutureWarning\n"
     ]
    },
    {
     "data": {
      "image/png": "[encoded data removed]",
      "text/plain": [
       "<Figure size 432x288 with 1 Axes>"
      ]
     },
     "metadata": {
      "needs_background": "light"
     },
     "output_type": "display_data"
    }
   ],
   "source": [
    "sns.countplot(RFMScores['RFMScore'])\n",
    "plt.show()"
   ]
  },
  {
   "cell_type": "markdown",
   "id": "245155b7",
   "metadata": {
    "papermill": {
     "duration": 0.015051,
     "end_time": "2022-07-23T13:41:53.975635",
     "exception": false,
     "start_time": "2022-07-23T13:41:53.960584",
     "status": "completed"
    },
    "tags": []
   },
   "source": [
    "# Lower the RFM.. More loyal user yor are\n",
    "That means that having low RFM is good so we will define a function and for all users having low values we will assign them platinum badge\n",
    "\n",
    "And for user having highest score we'll asign them Bronze Badge"
   ]
  },
  {
   "cell_type": "code",
   "execution_count": 19,
   "id": "d37968a5",
   "metadata": {
    "execution": {
     "iopub.execute_input": "2022-07-23T13:41:54.008796Z",
     "iopub.status.busy": "2022-07-23T13:41:54.007702Z",
     "iopub.status.idle": "2022-07-23T13:41:54.016256Z",
     "shell.execute_reply": "2022-07-23T13:41:54.015460Z"
    },
    "papermill": {
     "duration": 0.027467,
     "end_time": "2022-07-23T13:41:54.018402",
     "exception": false,
     "start_time": "2022-07-23T13:41:53.990935",
     "status": "completed"
    },
    "tags": []
   },
   "outputs": [],
   "source": [
    "# You can do this distribution according to you\n",
    "def handel_badge(value):\n",
    "    if(value>=10):\n",
    "        return 'Bronze'\n",
    "    elif(value>=8 and value<10):\n",
    "        return 'Silver'\n",
    "    elif(value>=6 and value<8):\n",
    "        return 'Gold'\n",
    "    else:\n",
    "        return 'Platinum'\n",
    "\n",
    "# Storing all the values in a list   \n",
    "list1=RFMScores['RFMScore'].apply(handel_badge)\n"
   ]
  },
  {
   "cell_type": "code",
   "execution_count": 20,
   "id": "f4d442c2",
   "metadata": {
    "execution": {
     "iopub.execute_input": "2022-07-23T13:41:54.052052Z",
     "iopub.status.busy": "2022-07-23T13:41:54.050932Z",
     "iopub.status.idle": "2022-07-23T13:41:54.058742Z",
     "shell.execute_reply": "2022-07-23T13:41:54.058020Z"
    },
    "papermill": {
     "duration": 0.027096,
     "end_time": "2022-07-23T13:41:54.060694",
     "exception": false,
     "start_time": "2022-07-23T13:41:54.033598",
     "status": "completed"
    },
    "tags": []
   },
   "outputs": [
    {
     "data": {
      "text/plain": [
       "CustomerID\n",
       "2333        Gold\n",
       "2334      Silver\n",
       "2335        Gold\n",
       "2336        Gold\n",
       "2337        Gold\n",
       "           ...  \n",
       "251041      Gold\n",
       "251042    Silver\n",
       "261374    Silver\n",
       "268356    Silver\n",
       "279492      Gold\n",
       "Name: RFMScore, Length: 5000, dtype: object"
      ]
     },
     "execution_count": 20,
     "metadata": {},
     "output_type": "execute_result"
    }
   ],
   "source": [
    "list1"
   ]
  },
  {
   "cell_type": "code",
   "execution_count": 21,
   "id": "e1b60a7e",
   "metadata": {
    "execution": {
     "iopub.execute_input": "2022-07-23T13:41:54.093515Z",
     "iopub.status.busy": "2022-07-23T13:41:54.092612Z",
     "iopub.status.idle": "2022-07-23T13:41:54.098857Z",
     "shell.execute_reply": "2022-07-23T13:41:54.097789Z"
    },
    "papermill": {
     "duration": 0.025067,
     "end_time": "2022-07-23T13:41:54.101203",
     "exception": false,
     "start_time": "2022-07-23T13:41:54.076136",
     "status": "completed"
    },
    "tags": []
   },
   "outputs": [],
   "source": [
    "# adding that list into the dataframe\n",
    "RFMScores['RFM_Loyalty_Level']=list1"
   ]
  },
  {
   "cell_type": "code",
   "execution_count": 22,
   "id": "15343d72",
   "metadata": {
    "execution": {
     "iopub.execute_input": "2022-07-23T13:41:54.134531Z",
     "iopub.status.busy": "2022-07-23T13:41:54.134114Z",
     "iopub.status.idle": "2022-07-23T13:41:54.149055Z",
     "shell.execute_reply": "2022-07-23T13:41:54.148014Z"
    },
    "papermill": {
     "duration": 0.034224,
     "end_time": "2022-07-23T13:41:54.151232",
     "exception": false,
     "start_time": "2022-07-23T13:41:54.117008",
     "status": "completed"
    },
    "tags": []
   },
   "outputs": [
    {
     "data": {
      "text/html": [
       "<div>\n",
       "<style scoped>\n",
       "    .dataframe tbody tr th:only-of-type {\n",
       "        vertical-align: middle;\n",
       "    }\n",
       "\n",
       "    .dataframe tbody tr th {\n",
       "        vertical-align: top;\n",
       "    }\n",
       "\n",
       "    .dataframe thead th {\n",
       "        text-align: right;\n",
       "    }\n",
       "</style>\n",
       "<table border=\"1\" class=\"dataframe\">\n",
       "  <thead>\n",
       "    <tr style=\"text-align: right;\">\n",
       "      <th></th>\n",
       "      <th>CustomerID</th>\n",
       "      <th>Recency</th>\n",
       "      <th>Frequency</th>\n",
       "      <th>Monetary</th>\n",
       "      <th>R</th>\n",
       "      <th>F</th>\n",
       "      <th>M</th>\n",
       "      <th>RFMGroup</th>\n",
       "      <th>RFMScore</th>\n",
       "      <th>RFM_Loyalty_Level</th>\n",
       "    </tr>\n",
       "  </thead>\n",
       "  <tbody>\n",
       "    <tr>\n",
       "      <th>0</th>\n",
       "      <td>2333</td>\n",
       "      <td>52</td>\n",
       "      <td>8</td>\n",
       "      <td>34847</td>\n",
       "      <td>2</td>\n",
       "      <td>4</td>\n",
       "      <td>1</td>\n",
       "      <td>241</td>\n",
       "      <td>7</td>\n",
       "      <td>Gold</td>\n",
       "    </tr>\n",
       "    <tr>\n",
       "      <th>1</th>\n",
       "      <td>2334</td>\n",
       "      <td>93</td>\n",
       "      <td>15</td>\n",
       "      <td>32486</td>\n",
       "      <td>3</td>\n",
       "      <td>4</td>\n",
       "      <td>1</td>\n",
       "      <td>341</td>\n",
       "      <td>8</td>\n",
       "      <td>Silver</td>\n",
       "    </tr>\n",
       "    <tr>\n",
       "      <th>2</th>\n",
       "      <td>2335</td>\n",
       "      <td>52</td>\n",
       "      <td>24</td>\n",
       "      <td>24178</td>\n",
       "      <td>2</td>\n",
       "      <td>3</td>\n",
       "      <td>1</td>\n",
       "      <td>231</td>\n",
       "      <td>6</td>\n",
       "      <td>Gold</td>\n",
       "    </tr>\n",
       "    <tr>\n",
       "      <th>3</th>\n",
       "      <td>2336</td>\n",
       "      <td>4</td>\n",
       "      <td>21</td>\n",
       "      <td>18554</td>\n",
       "      <td>1</td>\n",
       "      <td>4</td>\n",
       "      <td>1</td>\n",
       "      <td>141</td>\n",
       "      <td>6</td>\n",
       "      <td>Gold</td>\n",
       "    </tr>\n",
       "    <tr>\n",
       "      <th>4</th>\n",
       "      <td>2337</td>\n",
       "      <td>129</td>\n",
       "      <td>76</td>\n",
       "      <td>16884</td>\n",
       "      <td>3</td>\n",
       "      <td>2</td>\n",
       "      <td>1</td>\n",
       "      <td>321</td>\n",
       "      <td>6</td>\n",
       "      <td>Gold</td>\n",
       "    </tr>\n",
       "  </tbody>\n",
       "</table>\n",
       "</div>"
      ],
      "text/plain": [
       "   CustomerID  Recency  Frequency  Monetary  R  F  M RFMGroup  RFMScore  \\\n",
       "0        2333       52          8     34847  2  4  1      241         7   \n",
       "1        2334       93         15     32486  3  4  1      341         8   \n",
       "2        2335       52         24     24178  2  3  1      231         6   \n",
       "3        2336        4         21     18554  1  4  1      141         6   \n",
       "4        2337      129         76     16884  3  2  1      321         6   \n",
       "\n",
       "  RFM_Loyalty_Level  \n",
       "0              Gold  \n",
       "1            Silver  \n",
       "2              Gold  \n",
       "3              Gold  \n",
       "4              Gold  "
      ]
     },
     "execution_count": 22,
     "metadata": {},
     "output_type": "execute_result"
    }
   ],
   "source": [
    "RFMScores.reset_index().head()"
   ]
  },
  {
   "cell_type": "code",
   "execution_count": 23,
   "id": "1abf89e2",
   "metadata": {
    "execution": {
     "iopub.execute_input": "2022-07-23T13:41:54.184800Z",
     "iopub.status.busy": "2022-07-23T13:41:54.184393Z",
     "iopub.status.idle": "2022-07-23T13:41:54.191675Z",
     "shell.execute_reply": "2022-07-23T13:41:54.190648Z"
    },
    "papermill": {
     "duration": 0.026727,
     "end_time": "2022-07-23T13:41:54.193929",
     "exception": false,
     "start_time": "2022-07-23T13:41:54.167202",
     "status": "completed"
    },
    "tags": []
   },
   "outputs": [
    {
     "data": {
      "text/plain": [
       "4"
      ]
     },
     "execution_count": 23,
     "metadata": {},
     "output_type": "execute_result"
    }
   ],
   "source": [
    "RFMScores['RFMScore'].min()"
   ]
  },
  {
   "cell_type": "markdown",
   "id": "f4eb5a40",
   "metadata": {
    "papermill": {
     "duration": 0.015157,
     "end_time": "2022-07-23T13:41:54.224765",
     "exception": false,
     "start_time": "2022-07-23T13:41:54.209608",
     "status": "completed"
    },
    "tags": []
   },
   "source": [
    "# Visualization of the distribution"
   ]
  },
  {
   "cell_type": "code",
   "execution_count": 24,
   "id": "a7780787",
   "metadata": {
    "execution": {
     "iopub.execute_input": "2022-07-23T13:41:54.265611Z",
     "iopub.status.busy": "2022-07-23T13:41:54.265207Z",
     "iopub.status.idle": "2022-07-23T13:41:54.440697Z",
     "shell.execute_reply": "2022-07-23T13:41:54.438954Z"
    },
    "papermill": {
     "duration": 0.202541,
     "end_time": "2022-07-23T13:41:54.443139",
     "exception": false,
     "start_time": "2022-07-23T13:41:54.240598",
     "status": "completed"
    },
    "tags": []
   },
   "outputs": [
    {
     "name": "stderr",
     "output_type": "stream",
     "text": [
      "/opt/conda/lib/python3.7/site-packages/seaborn/_decorators.py:43: FutureWarning: Pass the following variable as a keyword arg: x. From version 0.12, the only valid positional argument will be `data`, and passing other arguments without an explicit keyword will result in an error or misinterpretation.\n",
      "  FutureWarning\n"
     ]
    },
    {
     "data": {
      "image/png": "[encoded data removed]",
      "text/plain": [
       "<Figure size 432x288 with 1 Axes>"
      ]
     },
     "metadata": {
      "needs_background": "light"
     },
     "output_type": "display_data"
    }
   ],
   "source": [
    "sns.countplot(RFMScores['RFM_Loyalty_Level'])\n",
    "plt.show()"
   ]
  },
  {
   "cell_type": "code",
   "execution_count": 25,
   "id": "c0c479a5",
   "metadata": {
    "execution": {
     "iopub.execute_input": "2022-07-23T13:41:54.477808Z",
     "iopub.status.busy": "2022-07-23T13:41:54.477414Z",
     "iopub.status.idle": "2022-07-23T13:41:54.981437Z",
     "shell.execute_reply": "2022-07-23T13:41:54.980635Z"
    },
    "papermill": {
     "duration": 0.523827,
     "end_time": "2022-07-23T13:41:54.983464",
     "exception": false,
     "start_time": "2022-07-23T13:41:54.459637",
     "status": "completed"
    },
    "tags": []
   },
   "outputs": [
    {
     "name": "stderr",
     "output_type": "stream",
     "text": [
      "/opt/conda/lib/python3.7/site-packages/seaborn/_decorators.py:43: FutureWarning: Pass the following variable as a keyword arg: x. From version 0.12, the only valid positional argument will be `data`, and passing other arguments without an explicit keyword will result in an error or misinterpretation.\n",
      "  FutureWarning\n"
     ]
    },
    {
     "data": {
      "image/png": "[encoded data removed]",
      "text/plain": [
       "<Figure size 1152x360 with 1 Axes>"
      ]
     },
     "metadata": {
      "needs_background": "light"
     },
     "output_type": "display_data"
    }
   ],
   "source": [
    "df2=RFMScores['RFMGroup'].sort_values(ascending=True)\n",
    "plt.figure(figsize=(16,5))\n",
    "sns.countplot(df2)\n",
    "plt.xticks(rotation=90)\n",
    "plt.show()"
   ]
  },
  {
   "cell_type": "code",
   "execution_count": 26,
   "id": "78bfe9e5",
   "metadata": {
    "execution": {
     "iopub.execute_input": "2022-07-23T13:41:55.018102Z",
     "iopub.status.busy": "2022-07-23T13:41:55.017415Z",
     "iopub.status.idle": "2022-07-23T13:41:55.025288Z",
     "shell.execute_reply": "2022-07-23T13:41:55.024343Z"
    },
    "papermill": {
     "duration": 0.027728,
     "end_time": "2022-07-23T13:41:55.027375",
     "exception": false,
     "start_time": "2022-07-23T13:41:54.999647",
     "status": "completed"
    },
    "tags": []
   },
   "outputs": [
    {
     "data": {
      "text/plain": [
       "Gold        2608\n",
       "Silver      1341\n",
       "Bronze       570\n",
       "Platinum     481\n",
       "Name: RFM_Loyalty_Level, dtype: int64"
      ]
     },
     "execution_count": 26,
     "metadata": {},
     "output_type": "execute_result"
    }
   ],
   "source": [
    "RFMScores['RFM_Loyalty_Level'].value_counts()"
   ]
  },
  {
   "cell_type": "code",
   "execution_count": 27,
   "id": "4b7b5dfa",
   "metadata": {
    "execution": {
     "iopub.execute_input": "2022-07-23T13:41:55.063190Z",
     "iopub.status.busy": "2022-07-23T13:41:55.062801Z",
     "iopub.status.idle": "2022-07-23T13:41:55.323350Z",
     "shell.execute_reply": "2022-07-23T13:41:55.322233Z"
    },
    "papermill": {
     "duration": 0.282058,
     "end_time": "2022-07-23T13:41:55.325725",
     "exception": false,
     "start_time": "2022-07-23T13:41:55.043667",
     "status": "completed"
    },
    "tags": []
   },
   "outputs": [
    {
     "data": {
      "image/png": "[encoded data removed]",
      "text/plain": [
       "<Figure size 864x576 with 1 Axes>"
      ]
     },
     "metadata": {
      "needs_background": "light"
     },
     "output_type": "display_data"
    }
   ],
   "source": [
    "\n",
    "plt.figure(figsize=(12,8))\n",
    "colors = sns.color_palette('pastel')[0:4]\n",
    "\n",
    "plt.pie(list1.value_counts(),labels=RFMScores['RFM_Loyalty_Level'].unique(),colors = colors,frame=True,autopct='%.0f%%')\n",
    "plt.show()"
   ]
  },
  {
   "cell_type": "markdown",
   "id": "b70667de",
   "metadata": {
    "papermill": {
     "duration": 0.016784,
     "end_time": "2022-07-23T13:41:55.360116",
     "exception": false,
     "start_time": "2022-07-23T13:41:55.343332",
     "status": "completed"
    },
    "tags": []
   },
   "source": [
    "# Strategy For Marketing (Conclusion)\n",
    "* Platinum: Platinum Users are our best users we should give them offer like free delivery as they are our regular customers, we sould retain them at any cost\n",
    "* Gold: Those are the users who bought from us but are not that frequent, To bring them more we can them offeres like buy 2 get 1 free\n",
    "* Silver: Those are the users who bought only in time of sales.. so we should spend more on reaching these people during time of sale\n",
    "* Bronze: Those are who only visit out site to avail some coupon,, We should give them discount coupon so they visit us more"
   ]
  },
  {
   "cell_type": "markdown",
   "id": "1c840fc8",
   "metadata": {
    "papermill": {
     "duration": 0.016709,
     "end_time": "2022-07-23T13:41:55.393803",
     "exception": false,
     "start_time": "2022-07-23T13:41:55.377094",
     "status": "completed"
    },
    "tags": []
   },
   "source": [
    "**This was all from my side You can and any doubt in the Comment**\n"
   ]
  },
  {
   "cell_type": "markdown",
   "id": "2e567dbb",
   "metadata": {
    "papermill": {
     "duration": 0.016731,
     "end_time": "2022-07-23T13:41:55.427338",
     "exception": false,
     "start_time": "2022-07-23T13:41:55.410607",
     "status": "completed"
    },
    "tags": []
   },
   "source": [
    "# Thank You"
   ]
  },
  {
   "cell_type": "markdown",
   "id": "26c4385b",
   "metadata": {
    "papermill": {
     "duration": 0.016664,
     "end_time": "2022-07-23T13:41:55.461068",
     "exception": false,
     "start_time": "2022-07-23T13:41:55.444404",
     "status": "completed"
    },
    "tags": []
   },
   "source": [
    "![](https://66.media.tumblr.com/4bd8e6bdd5599a390cd7199a5f4d2cbd/977ca883a9c49235-a0/s1280x1920/da727bcc0d3d5590fd5c57be4a7fe59a977f4d32.gif)"
   ]
  }
 ],
 "metadata": {
  "kernelspec": {
   "display_name": "Python 3",
   "language": "python",
   "name": "python3"
  },
  "language_info": {
   "codemirror_mode": {
    "name": "ipython",
    "version": 3
   },
   "file_extension": ".py",
   "mimetype": "text/x-python",
   "name": "python",
   "nbconvert_exporter": "python",
   "pygments_lexer": "ipython3",
   "version": "3.7.12"
  },
  "papermill": {
   "default_parameters": {},
   "duration": 16.69318,
   "end_time": "2022-07-23T13:41:56.200454",
   "environment_variables": {},
   "exception": null,
   "input_path": "__notebook__.ipynb",
   "output_path": "__notebook__.ipynb",
   "parameters": {},
   "start_time": "2022-07-23T13:41:39.507274",
   "version": "2.3.4"
  }
 },
 "nbformat": 4,
 "nbformat_minor": 5
}
